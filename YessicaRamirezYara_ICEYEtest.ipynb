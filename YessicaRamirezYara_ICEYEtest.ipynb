{
 "cells": [
  {
   "cell_type": "code",
   "execution_count": null,
   "id": "23113fef",
   "metadata": {},
   "outputs": [],
   "source": [
    "#Yessica Ramirez Yara - test\n",
    "\n",
    "#Python script for loading data\n",
    "\n",
    "from arcgis.gis import GIS\n",
    "from arcgis.features import FeatureLayerCollection\n",
    "import os\n",
    "\n",
    "#Log in to ArcGIS Online\n",
    "gis = GIS(\"https://www.arcgis.com\", \"yessicanryara\", \"password\")\n",
    "\n",
    "#Set the path of the zipped flooding shapefile\n",
    "shapefile_path = \"C:\\Users\\usuario\\OneDrive\\Desktop\\Consultorias\\ICEYE\\floodings.zip\"  \n",
    "\n",
    "#Add the shapefile to ArcGIS Online\n",
    "feature_layer_item = gis.content.add({\"type\": \"Shapefile\"}, shapefile_path)\n",
    "\n",
    "#Publish the feature layer of floodings\n",
    "published_layer = feature_layer_item.publish()\n",
    "\n",
    "#Create Layer Views for Customer A and Customer B\n",
    "Floodings_CA = published_layer.create_view(\"Floodings_CA\", {\"country\": [\"Europe\", \"North America\"]})\n",
    "Floodings_CB = published_layer.create_view(\"Floodings_CB\", {\"year\": [2022, 2023, 2024]})\n",
    "layer_views= [Floodings_CA, Floodings_CB]\n",
    "\n",
    "#Assuming the groups of costumer A and B are already built\n",
    "gruops_gis= [gis.groups.get(CostumerA_groupID), gis.groups.get(CostumerB_groupID)]\n",
    "\n",
    "# Add layer views to the specified groups\n",
    "for i in range(2):\n",
    "    gruops_gis[i].add_items(layer_views[i])     \n",
    "\n",
    "#Build a Web Map Application\n",
    "web_map_properties = {\n",
    "    \"title\": \"Flood Events Web Map\",\n",
    "    \"tags\": \"Flood Events Web Map\",\n",
    "    \"snippet\": \"Flood Events Web Map\",\n",
    "    \"extent\": {\"xmin\": -180, \"ymin\": -90, \"xmax\": 180, \"ymax\": 90}\n",
    "}\n",
    "web_map = gis.create_map(web_map_properties)\n",
    "\n",
    "#Add layer views to the web map\n",
    "web_map.add_layer(customer_a_view)\n",
    "web_map.add_layer(customer_b_view)\n",
    "\n",
    "# Save the web map\n",
    "web_map.save()\n",
    "print(f\"Web Map created: {web_map.url}\")"
   ]
  }
 ],
 "metadata": {
  "kernelspec": {
   "display_name": "Python 3 (ipykernel)",
   "language": "python",
   "name": "python3"
  },
  "language_info": {
   "codemirror_mode": {
    "name": "ipython",
    "version": 3
   },
   "file_extension": ".py",
   "mimetype": "text/x-python",
   "name": "python",
   "nbconvert_exporter": "python",
   "pygments_lexer": "ipython3",
   "version": "3.9.18"
  }
 },
 "nbformat": 4,
 "nbformat_minor": 5
}
